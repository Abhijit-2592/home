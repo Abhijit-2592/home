{
 "cells": [
  {
   "cell_type": "code",
   "execution_count": 1,
   "metadata": {
    "collapsed": true
   },
   "outputs": [],
   "source": [
    "import pandas\n",
    "\n",
    "df_train = pandas.read_pickle('train')"
   ]
  },
  {
   "cell_type": "code",
   "execution_count": 3,
   "metadata": {},
   "outputs": [],
   "source": [
    "training_set = df_train.to_records().tolist()"
   ]
  },
  {
   "cell_type": "code",
   "execution_count": 5,
   "metadata": {},
   "outputs": [
    {
     "data": {
      "text/plain": [
       "[(8090, 'Yes. Please remind me to have everyday', 'Not Found'),\n (7255, 'I we schedul it for whole week or till 4th of jan', 'Not Found'),\n (9217, 'Before 12am', 'Not Found'),\n (7610, 'Tanu trivani', 'Not Found'),\n (4237, 'Can you change title msg?', 'Not Found'),\n (1463, 'Pls go ahead', 'Not Found'),\n (7545,\n  'Remind me to take stamp paper on 10/12/16 at 8:35 am',\n  'take stamp paper'),\n (2088,\n  'I want u to remind me frm 11 am to 7 pm',\n  'remind me frm 11 am to 7 pm'),\n (5295, 'Remind me smthg', 'Not Found'),\n (8315,\n  'Remind me to take my leather jacket from cupboard today at 10:00 am',\n  'take my leather jacket from cupboard')]"
      ]
     },
     "execution_count": 5,
     "metadata": {},
     "output_type": "execute_result"
    }
   ],
   "source": [
    "training_set[:10]"
   ]
  },
  {
   "cell_type": "code",
   "execution_count": 7,
   "metadata": {},
   "outputs": [],
   "source": [
    "import rake\n",
    "rake_object = rake.Rake(\"SmartStoplist_modified.txt\", 2, 20, 1)"
   ]
  },
  {
   "cell_type": "code",
   "execution_count": 27,
   "metadata": {},
   "outputs": [],
   "source": [
    "def get_rake_keywords(text):\n",
    "    try:\n",
    "        keywords = rake_object.run(text)\n",
    "        keywords = [(k, v) for (k, v) in keywords if v > 1]\n",
    "        if keywords:\n",
    "            return keywords\n",
    "        return [('NA', 'NA')]\n",
    "    except:\n",
    "        return None"
   ]
  },
  {
   "cell_type": "code",
   "execution_count": 35,
   "metadata": {},
   "outputs": [],
   "source": [
    "training_set_with_rake = []\n",
    "\n",
    "for row in training_set:\n",
    "    row = list(row)\n",
    "    text = str(row[1]).lower()\n",
    "    rake_keys = get_rake_keywords(text)\n",
    "    if rake_keys:\n",
    "        # print rake_keys\n",
    "        label = str(row[2]).lower()\n",
    "        feature = {'rake_keys' : rake_keys[0][0]}\n",
    "        training_set_with_rake.append((feature, label))"
   ]
  },
  {
   "cell_type": "code",
   "execution_count": 31,
   "metadata": {},
   "outputs": [
    {
     "name": "stdout",
     "output_type": "stream",
     "text": [
      "rake keys label\n"
     ]
    }
   ],
   "source": [
    "print 'rake keys', 'label'\n",
    "# for row in training_set_with_rake:\n",
    "#     print row"
   ]
  },
  {
   "cell_type": "code",
   "execution_count": 36,
   "metadata": {},
   "outputs": [],
   "source": [
    "import nltk\n",
    "classifier = nltk.NaiveBayesClassifier.train(training_set_with_rake)"
   ]
  },
  {
   "cell_type": "code",
   "execution_count": 37,
   "metadata": {},
   "outputs": [
    {
     "name": "stdout",
     "output_type": "stream",
     "text": [
      "Most Informative Features\n               rake_keys = 'NA'           not fo : wakeup =    472.8 : 1.0\n               rake_keys = 'set alarm'    not fo : check  =      7.3 : 1.0\n               rake_keys = 'u set'        not fo : same d =      6.8 : 1.0\n               rake_keys = 'multiple reminders' gettin : not fo =      3.9 : 1.0\n               rake_keys = 'monday and tuesday' buy eg : not fo =      3.9 : 1.0\n               rake_keys = 'go home'      go hom : go hom =      3.7 : 1.0\n               rake_keys = 'wish birthday name' not fo : wish h =      3.0 : 1.0\n               rake_keys = 'the reminders' all th : -)     =      3.0 : 1.0\n               rake_keys = 'set the'      not fo : study  =      2.8 : 1.0\n               rake_keys = 'good morning' not fo : remind =      2.7 : 1.0\n"
     ]
    }
   ],
   "source": [
    "classifier.show_most_informative_features(10)"
   ]
  },
  {
   "cell_type": "code",
   "execution_count": 39,
   "metadata": {},
   "outputs": [],
   "source": [
    "df_test = pandas.read_pickle('test')\n",
    "test_set = df_test.to_records().tolist()"
   ]
  },
  {
   "cell_type": "code",
   "execution_count": 41,
   "metadata": {},
   "outputs": [
    {
     "data": {
      "text/plain": [
       "[(1183, 'Can put a reminder for me', 'Not Found'),\n (3010, 'Give me a call at 9:30 for whizible', 'Give me a call and whizible'),\n (7486,\n  'Means u have scheduled 6 alarms in a gap of 10min',\n  'have scheduled 6 alarms'),\n (3277, 'Set reminder today at 7:35 am', 'Not Found'),\n (8219, 'Tell me all reminder', 'Not Found'),\n (5229, 'Memori Reminder', 'Not Found'),\n (8890,\n  'I am moving to out...After 30 min reminder me I have a small work',\n  'moving to out...'),\n (5730, 'Can you remember me', 'Not Found'),\n (8092,\n  'Remind me to ask somebody about my biotech and micro project and 12pm today',\n  'ask somebody about my biotech and micro project'),\n (1289, 'Want reminder for walk', 'walk')]"
      ]
     },
     "execution_count": 41,
     "metadata": {},
     "output_type": "execute_result"
    }
   ],
   "source": [
    "test_set[:10]"
   ]
  },
  {
   "cell_type": "code",
   "execution_count": 43,
   "metadata": {},
   "outputs": [],
   "source": [
    "test_set_with_rake = []\n",
    "\n",
    "for row in test_set:\n",
    "    row = list(row)\n",
    "    text = str(row[1]).lower()\n",
    "    rake_keys = get_rake_keywords(text)\n",
    "    if rake_keys:\n",
    "        # print rake_keys\n",
    "        label = str(row[2]).lower()\n",
    "        feature = {'rake_keys' : rake_keys[0][0]}\n",
    "        test_set_with_rake.append((feature, label))"
   ]
  },
  {
   "cell_type": "code",
   "execution_count": 45,
   "metadata": {},
   "outputs": [
    {
     "data": {
      "text/plain": [
       "[({'rake_keys': 'NA'}, 'not found'),\n ({'rake_keys': 'NA'}, 'give me a call and whizible'),\n ({'rake_keys': 'scheduled 6 alarms in'}, 'have scheduled 6 alarms'),\n ({'rake_keys': 'NA'}, 'not found'),\n ({'rake_keys': 'NA'}, 'not found'),\n ({'rake_keys': 'NA'}, 'not found'),\n ({'rake_keys': 'small work'}, 'moving to out...'),\n ({'rake_keys': 'NA'}, 'not found'),\n ({'rake_keys': 'my biotech and micro project and 12pm today'},\n  'ask somebody about my biotech and micro project'),\n ({'rake_keys': 'NA'}, 'walk')]"
      ]
     },
     "execution_count": 45,
     "metadata": {},
     "output_type": "execute_result"
    }
   ],
   "source": [
    "test_set_with_rake[:10]"
   ]
  },
  {
   "cell_type": "code",
   "execution_count": 47,
   "metadata": {},
   "outputs": [
    {
     "data": {
      "text/plain": [
       "0.40205128205128204"
      ]
     },
     "execution_count": 47,
     "metadata": {},
     "output_type": "execute_result"
    }
   ],
   "source": [
    "nltk.classify.accuracy(classifier, test_set_with_rake)"
   ]
  },
  {
   "cell_type": "code",
   "execution_count": null,
   "metadata": {},
   "outputs": [],
   "source": [
    ""
   ]
  }
 ],
 "metadata": {
  "kernelspec": {
   "display_name": "Python 2",
   "language": "python",
   "name": "python2"
  },
  "language_info": {
   "codemirror_mode": {
    "name": "ipython",
    "version": 2.0
   },
   "file_extension": ".py",
   "mimetype": "text/x-python",
   "name": "python",
   "nbconvert_exporter": "python",
   "pygments_lexer": "ipython2",
   "version": "2.7.6"
  }
 },
 "nbformat": 4,
 "nbformat_minor": 0
}
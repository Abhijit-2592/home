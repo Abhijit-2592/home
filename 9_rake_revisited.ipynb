{
 "cells": [
  {
   "cell_type": "code",
   "execution_count": 1,
   "metadata": {
    "collapsed": true
   },
   "outputs": [],
   "source": [
    "import rake\n",
    "rake_object = rake.Rake(\"myfile\", 2, 10, 1)"
   ]
  },
  {
   "cell_type": "code",
   "execution_count": 10,
   "metadata": {},
   "outputs": [
    {
     "name": "stdout",
     "output_type": "stream",
     "text": [
      "word_scores:  {'to': 6.0, 'calendar': 6.0, 'send': 6.0, 'invite': 6.0, 'anish': 6.0}\nkeywords:  [('to send calendar invite to anish', 36.0)]\n"
     ]
    }
   ],
   "source": [
    "text = \"Remind me to send calendar invite to anish\"\n",
    "word_scores, keywords = rake_object.run(text)\n",
    "print \"word_scores: \", word_scores\n",
    "print \"keywords: \", keywords"
   ]
  },
  {
   "cell_type": "code",
   "execution_count": 12,
   "metadata": {},
   "outputs": [],
   "source": [
    "import pandas\n",
    "\n",
    "df_train = pandas.read_pickle('train')"
   ]
  },
  {
   "cell_type": "code",
   "execution_count": 14,
   "metadata": {},
   "outputs": [],
   "source": [
    "training_set = df_train.to_records().tolist()"
   ]
  },
  {
   "cell_type": "code",
   "execution_count": 17,
   "metadata": {},
   "outputs": [],
   "source": [
    "def get_rake_keywords(text):\n",
    "    try:\n",
    "        keywords = rake_object.run(text)\n",
    "        keywords = [(k, v) for (k, v) in keywords if v > 1]\n",
    "        if keywords:\n",
    "            return keywords\n",
    "        return [('NA', 'NA')]\n",
    "    except:\n",
    "        return None"
   ]
  },
  {
   "cell_type": "code",
   "execution_count": 19,
   "metadata": {},
   "outputs": [],
   "source": [
    "training_set_with_rake = []\n",
    "\n",
    "for row in training_set:\n",
    "    row = list(row)\n",
    "    text = str(row[1]).lower()\n",
    "    rake_keys = get_rake_keywords(text)\n",
    "    if rake_keys:\n",
    "        # print rake_keys\n",
    "        label = str(row[2]).lower()\n",
    "        feature = {'rake_keys' : rake_keys[0][0]}\n",
    "        training_set_with_rake.append((feature, label))"
   ]
  },
  {
   "cell_type": "code",
   "execution_count": 21,
   "metadata": {},
   "outputs": [
    {
     "name": "stdout",
     "output_type": "stream",
     "text": [
      "rake keys label\n({'rake_keys': 'call'}, 'not found')\n"
     ]
    }
   ],
   "source": [
    "print 'rake keys', 'label'\n",
    "for row in training_set_with_rake:\n",
    "    print row\n",
    "    break"
   ]
  },
  {
   "cell_type": "code",
   "execution_count": 23,
   "metadata": {},
   "outputs": [],
   "source": [
    "import nltk\n",
    "classifier = nltk.NaiveBayesClassifier.train(training_set_with_rake)"
   ]
  },
  {
   "cell_type": "code",
   "execution_count": 25,
   "metadata": {},
   "outputs": [
    {
     "name": "stdout",
     "output_type": "stream",
     "text": [
      "Most Informative Features\n               rake_keys = 'pls'          go to  : not fo =      3.6 : 1.0\n               rake_keys = '30pm'         delhi  : not fo =      3.6 : 1.0\n               rake_keys = 'set'          watch  : not fo =      3.6 : 1.0\n               rake_keys = 'alarms'       8 alar : not fo =      3.6 : 1.0\n               rake_keys = 'am'           collec : not fo =      2.2 : 1.0\n               rake_keys = 'call'         not fo : call m =      1.8 : 1.0\n               rake_keys = 'at'           send a : not fo =      1.2 : 1.0\n               rake_keys = 'please'       not fo : arrang =      1.0 : 1.0\n"
     ]
    }
   ],
   "source": [
    "classifier.show_most_informative_features(10)"
   ]
  },
  {
   "cell_type": "code",
   "execution_count": 27,
   "metadata": {},
   "outputs": [],
   "source": [
    "df_test = pandas.read_pickle('test')\n",
    "test_set = df_test.to_records().tolist()"
   ]
  },
  {
   "cell_type": "code",
   "execution_count": 29,
   "metadata": {},
   "outputs": [],
   "source": [
    "test_set_with_rake = []\n",
    "\n",
    "for row in test_set:\n",
    "    row = list(row)\n",
    "    text = str(row[1]).lower()\n",
    "    rake_keys = get_rake_keywords(text)\n",
    "    if rake_keys:\n",
    "        # print rake_keys\n",
    "        label = str(row[2]).lower()\n",
    "        feature = {'rake_keys' : rake_keys[0][0]}\n",
    "        test_set_with_rake.append((feature, label))"
   ]
  },
  {
   "cell_type": "code",
   "execution_count": 31,
   "metadata": {},
   "outputs": [
    {
     "data": {
      "text/plain": [
       "[({'rake_keys': 'plz'}, 'go to library for print out of quotes'),\n ({'rake_keys': 'mrng'}, 'not found'),\n ({'rake_keys': 'by'}, 'pl remind'),\n ({'rake_keys': 'please'}, 'not found'),\n ({'rake_keys': 'sorry'}, 'not found'),\n ({'rake_keys': 'am'}, 'not found'),\n ({'rake_keys': 'please'}, 'discuss q paper with my 12th class'),\n ({'rake_keys': 'tonight'}, 'not found'),\n ({'rake_keys': 'tomrw'}, 'not found'),\n ({'rake_keys': 'call'}, 'not found')]"
      ]
     },
     "execution_count": 31,
     "metadata": {},
     "output_type": "execute_result"
    }
   ],
   "source": [
    "test_set_with_rake[:10]"
   ]
  },
  {
   "cell_type": "code",
   "execution_count": null,
   "metadata": {},
   "outputs": [],
   "source": [
    "nltk.classify.accuracy(classifier, test_set_with_rake)"
   ]
  },
  {
   "cell_type": "code",
   "execution_count": null,
   "outputs": [],
   "source": [
    ""
   ]
  }
 ],
 "metadata": {
  "kernelspec": {
   "display_name": "Python 2",
   "language": "python",
   "name": "python2"
  },
  "language_info": {
   "codemirror_mode": {
    "name": "ipython",
    "version": 2.0
   },
   "file_extension": ".py",
   "mimetype": "text/x-python",
   "name": "python",
   "nbconvert_exporter": "python",
   "pygments_lexer": "ipython2",
   "version": "2.7.6"
  }
 },
 "nbformat": 4,
 "nbformat_minor": 0
}